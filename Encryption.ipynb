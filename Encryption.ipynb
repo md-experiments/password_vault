{
 "cells": [
  {
   "cell_type": "code",
   "execution_count": 1,
   "metadata": {},
   "outputs": [],
   "source": [
    "SQL_DB_NAME=\"pass_dev.db\"\n",
    "SQL_TBL_NAME='dev2'"
   ]
  },
  {
   "cell_type": "code",
   "execution_count": 16,
   "metadata": {},
   "outputs": [],
   "source": [
    "with open('password.txt','r') as f:\n",
    "    PASSWORD = [line.rstrip('\\n') for line in f][0]"
   ]
  },
  {
   "cell_type": "code",
   "execution_count": 3,
   "metadata": {},
   "outputs": [],
   "source": [
    "from src.database import SQLiteDB"
   ]
  },
  {
   "cell_type": "code",
   "execution_count": 4,
   "metadata": {},
   "outputs": [],
   "source": [
    "db=SQLiteDB(SQL_DB_NAME)"
   ]
  },
  {
   "cell_type": "code",
   "execution_count": 5,
   "metadata": {},
   "outputs": [
    {
     "name": "stdout",
     "output_type": "stream",
     "text": [
      "table dev2 already exists\n"
     ]
    }
   ],
   "source": [
    "try: \n",
    "    db.create_table(SQL_TBL_NAME)\n",
    "except Exception as e:\n",
    "    print(e)"
   ]
  },
  {
   "cell_type": "code",
   "execution_count": 6,
   "metadata": {},
   "outputs": [],
   "source": [
    "with open('file_to_encrypt.txt','r') as f:\n",
    "    mylist = [line.rstrip('\\n') for line in f]"
   ]
  },
  {
   "cell_type": "markdown",
   "metadata": {},
   "source": [
    "# Encryption"
   ]
  },
  {
   "cell_type": "code",
   "execution_count": 7,
   "metadata": {},
   "outputs": [],
   "source": [
    "from cryptography.fernet import Fernet\n",
    "from src.encryption import encrypt_message, decrypt_message, derive_pass"
   ]
  },
  {
   "cell_type": "code",
   "execution_count": 8,
   "metadata": {
    "scrolled": true
   },
   "outputs": [],
   "source": [
    "\n",
    "for msg in mylist:\n",
    "    enc_msg=encrypt_message(msg, PASSWORD)\n",
    "    db.add('dev2',\"'\"+enc_msg.decode(\"utf-8\")+\"'\")"
   ]
  },
  {
   "cell_type": "code",
   "execution_count": 9,
   "metadata": {},
   "outputs": [
    {
     "data": {
      "text/plain": [
       "['gAAAAABfJzeqC_2lcW8wqjXnY89ybdBL0-nEuRtYoSPF7kEUuKWsA1m7KlQHd22tKgOVmi4F7t-DNEU17W6ssm-gCjA3aN4zNA==',\n",
       " 'gAAAAABfJzeqsQDLmBTNJfWoAYEpEDjrxmcDfFLo7C259Tzzj4H-YN-0RRP7BjteIOWncF-OXOtqYujwq2cCKDqTBPwAboNeFA==',\n",
       " 'gAAAAABfJzeqCNOIAi_uIvQp54hCFf4u4u5WiTp_dBcI4sss5wo9WcQgtzaR7EL38T4Uzsk8A6012l43jpA-YQol8B10bnueB2ErTuadjoU4bw2nd6HWEYw=',\n",
       " 'gAAAAABfJzyW5jq2IdppL9KgJFzDOTAtsBAJRvxyPOJCZlNdE37m9-5A5gpTymZLfBSEWKq7rrofXfXM-08KOxqH35ERuIXZ6Tki9odgAOKkwAM-TOCCfgU=']"
      ]
     },
     "execution_count": 9,
     "metadata": {},
     "output_type": "execute_result"
    }
   ],
   "source": [
    "res=db.select_all(\"dev2\")\n",
    "res"
   ]
  },
  {
   "cell_type": "markdown",
   "metadata": {},
   "source": [
    "ToDO\n",
    "\n",
    "1. Be able to split lines - DONE\n",
    "2. Be able to edit file: add a line & update a line\n",
    "3. Ability to reset password\n",
    "4. Have a dropdown to select which file to preview\n"
   ]
  },
  {
   "cell_type": "code",
   "execution_count": null,
   "metadata": {},
   "outputs": [],
   "source": []
  }
 ],
 "metadata": {
  "kernelspec": {
   "display_name": "Python 3",
   "language": "python",
   "name": "python3"
  },
  "language_info": {
   "codemirror_mode": {
    "name": "ipython",
    "version": 3
   },
   "file_extension": ".py",
   "mimetype": "text/x-python",
   "name": "python",
   "nbconvert_exporter": "python",
   "pygments_lexer": "ipython3",
   "version": "3.7.4"
  }
 },
 "nbformat": 4,
 "nbformat_minor": 2
}
