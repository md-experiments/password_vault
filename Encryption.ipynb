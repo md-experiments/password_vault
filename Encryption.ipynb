{
 "cells": [
  {
   "cell_type": "code",
   "execution_count": 1,
   "metadata": {},
   "outputs": [],
   "source": [
    "from src.database import SQLiteDB"
   ]
  },
  {
   "cell_type": "code",
   "execution_count": 13,
   "metadata": {},
   "outputs": [],
   "source": [
    "db=SQLiteDB(\"pass_dev.db\")"
   ]
  },
  {
   "cell_type": "code",
   "execution_count": 17,
   "metadata": {},
   "outputs": [],
   "source": [
    "table_nm='dev2'\n",
    "\n",
    "pwd=''"
   ]
  },
  {
   "cell_type": "code",
   "execution_count": 18,
   "metadata": {},
   "outputs": [],
   "source": [
    "db.create_table(table_nm)"
   ]
  },
  {
   "cell_type": "code",
   "execution_count": 20,
   "metadata": {},
   "outputs": [],
   "source": [
    "with open('file_to_encrypt.txt','r') as f:\n",
    "    mylist = [line.rstrip('\\n') for line in f]"
   ]
  },
  {
   "cell_type": "markdown",
   "metadata": {},
   "source": [
    "# Encryption"
   ]
  },
  {
   "cell_type": "code",
   "execution_count": 14,
   "metadata": {},
   "outputs": [],
   "source": [
    "from cryptography.fernet import Fernet\n",
    "from src.encryption import encrypt_message, decrypt_message, derive_pass"
   ]
  },
  {
   "cell_type": "code",
   "execution_count": 15,
   "metadata": {
    "scrolled": true
   },
   "outputs": [
    {
     "data": {
      "text/plain": [
       "b'7GxdzhG24i2mKxO_UeiLEoLBgTacntO6bXOi2dQys14='"
      ]
     },
     "execution_count": 15,
     "metadata": {},
     "output_type": "execute_result"
    }
   ],
   "source": [
    "\n",
    "key=derive_pass(pwd)\n",
    "key"
   ]
  },
  {
   "cell_type": "code",
   "execution_count": 21,
   "metadata": {
    "scrolled": true
   },
   "outputs": [],
   "source": [
    "\n",
    "for msg in mylist:\n",
    "    enc_msg=encrypt_message(msg, pwd)\n",
    "    db.add('dev2',\"'\"+enc_msg.decode(\"utf-8\")+\"'\")"
   ]
  },
  {
   "cell_type": "code",
   "execution_count": 23,
   "metadata": {},
   "outputs": [
    {
     "data": {
      "text/plain": [
       "['gAAAAABfJzeqC_2lcW8wqjXnY89ybdBL0-nEuRtYoSPF7kEUuKWsA1m7KlQHd22tKgOVmi4F7t-DNEU17W6ssm-gCjA3aN4zNA==',\n",
       " 'gAAAAABfJzeqsQDLmBTNJfWoAYEpEDjrxmcDfFLo7C259Tzzj4H-YN-0RRP7BjteIOWncF-OXOtqYujwq2cCKDqTBPwAboNeFA==',\n",
       " 'gAAAAABfJzeqCNOIAi_uIvQp54hCFf4u4u5WiTp_dBcI4sss5wo9WcQgtzaR7EL38T4Uzsk8A6012l43jpA-YQol8B10bnueB2ErTuadjoU4bw2nd6HWEYw=']"
      ]
     },
     "execution_count": 23,
     "metadata": {},
     "output_type": "execute_result"
    }
   ],
   "source": [
    "res=db.select_all(\"dev2\")\n",
    "res"
   ]
  },
  {
   "cell_type": "code",
   "execution_count": 10,
   "metadata": {},
   "outputs": [
    {
     "data": {
      "text/plain": [
       "['Flask==1.1.2\\n', 'Werkzeug==1.0.1\\n', 'cryptography==3.0']"
      ]
     },
     "execution_count": 10,
     "metadata": {},
     "output_type": "execute_result"
    }
   ],
   "source": [
    "mylist"
   ]
  },
  {
   "cell_type": "markdown",
   "metadata": {},
   "source": [
    "# Add to File"
   ]
  },
  {
   "cell_type": "code",
   "execution_count": 14,
   "metadata": {},
   "outputs": [],
   "source": [
    "from src.database import FileDB"
   ]
  },
  {
   "cell_type": "code",
   "execution_count": 15,
   "metadata": {},
   "outputs": [],
   "source": [
    "f=FileDB('./test.txt')"
   ]
  },
  {
   "cell_type": "code",
   "execution_count": 20,
   "metadata": {},
   "outputs": [],
   "source": [
    "f.save_to_file(enc_msg.decode(\"utf-8\"))"
   ]
  },
  {
   "cell_type": "code",
   "execution_count": 23,
   "metadata": {},
   "outputs": [
    {
     "data": {
      "text/plain": [
       "['gAAAAABfJTJZmOyyQvUSBI2VKbH_-A1HRV8KdasfVDY_OjX1g0ny3KwUIwdynvgHpoowa2Yb3QO4VEO0lv164MnOsWdz45vMouFdn9-afqhSqyOY8p4ZbMVu3Rk_AMN7ovKQ3WnlhSuwsrDtlDAncXxCU1Vl5MrrRA==']"
      ]
     },
     "execution_count": 23,
     "metadata": {},
     "output_type": "execute_result"
    }
   ],
   "source": [
    "f.load_file()"
   ]
  },
  {
   "cell_type": "markdown",
   "metadata": {},
   "source": [
    "ToDO\n",
    "\n",
    "1. Be able to split lines\n",
    "2. Be able to edit file: add a line & update a line\n",
    "3. Ability to reset password\n",
    "4. Have a dropdown to select which file to preview\n"
   ]
  }
 ],
 "metadata": {
  "kernelspec": {
   "display_name": "Python 3",
   "language": "python",
   "name": "python3"
  },
  "language_info": {
   "codemirror_mode": {
    "name": "ipython",
    "version": 3
   },
   "file_extension": ".py",
   "mimetype": "text/x-python",
   "name": "python",
   "nbconvert_exporter": "python",
   "pygments_lexer": "ipython3",
   "version": "3.7.4"
  }
 },
 "nbformat": 4,
 "nbformat_minor": 2
}
