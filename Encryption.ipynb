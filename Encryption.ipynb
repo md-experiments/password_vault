{
 "cells": [
  {
   "cell_type": "markdown",
   "metadata": {},
   "source": [
    "# Overview\n",
    "\n",
    "This notebook helps encrypt data and store to a local database. The unencrypted data can then be removed from your drive. "
   ]
  },
  {
   "cell_type": "code",
   "execution_count": 18,
   "metadata": {},
   "outputs": [],
   "source": [
    "SQL_DB_NAME=\"pass_dev.db\"\n",
    "SQL_TBL_NAME='dev2'"
   ]
  },
  {
   "cell_type": "code",
   "execution_count": 19,
   "metadata": {},
   "outputs": [],
   "source": [
    "with open('password.txt','r') as f:\n",
    "    PASSWORD = [line.rstrip('\\n') for line in f][0]"
   ]
  },
  {
   "cell_type": "code",
   "execution_count": 23,
   "metadata": {},
   "outputs": [],
   "source": [
    "with open('file_to_encrypt.txt','r') as f:\n",
    "    mylist = [line.rstrip('\\n') for line in f]"
   ]
  },
  {
   "cell_type": "markdown",
   "metadata": {},
   "source": [
    "# Prepare Database\n",
    "\n",
    "We use a custom wrapper over sqlite3 to store the sensitive data "
   ]
  },
  {
   "cell_type": "code",
   "execution_count": 20,
   "metadata": {},
   "outputs": [],
   "source": [
    "from src.database import SQLiteDB"
   ]
  },
  {
   "cell_type": "code",
   "execution_count": 21,
   "metadata": {},
   "outputs": [],
   "source": [
    "db=SQLiteDB(SQL_DB_NAME)"
   ]
  },
  {
   "cell_type": "code",
   "execution_count": 22,
   "metadata": {},
   "outputs": [],
   "source": [
    "try: \n",
    "    db.create_table(SQL_TBL_NAME)\n",
    "except Exception as e:\n",
    "    print(e)"
   ]
  },
  {
   "cell_type": "markdown",
   "metadata": {},
   "source": [
    "# Encryption"
   ]
  },
  {
   "cell_type": "code",
   "execution_count": 24,
   "metadata": {},
   "outputs": [],
   "source": [
    "from cryptography.fernet import Fernet\n",
    "from src.encryption import encrypt_message"
   ]
  },
  {
   "cell_type": "code",
   "execution_count": 25,
   "metadata": {
    "scrolled": true
   },
   "outputs": [],
   "source": [
    "\n",
    "for msg in mylist:\n",
    "    enc_msg=encrypt_message(msg, PASSWORD)\n",
    "    db.add('dev2',\"'\"+enc_msg.decode(\"utf-8\")+\"'\")"
   ]
  },
  {
   "cell_type": "code",
   "execution_count": 26,
   "metadata": {},
   "outputs": [
    {
     "data": {
      "text/plain": [
       "['gAAAAABfKIbT501DM8gjSahnf4QLnIwi2WxKDTg9DJ_NnjTNcFU-CXWUINgAE3q8RCVci51Es4ZHI70by7JbrEAPBNqll7bPkErHU-FDbRhuqabw_jeK5P8=',\n",
       " 'gAAAAABfKIbU_1izEi9-7ghylt5NZKQ14VaFgdF102kVixT_K68E9lYWaM-3Lc_hX2hH-RNTgyfiCWSL9WA8ObkgnXddLWaCD6EUkYM8AhdZlqmOW-oh74s=']"
      ]
     },
     "execution_count": 26,
     "metadata": {},
     "output_type": "execute_result"
    }
   ],
   "source": [
    "res=db.select_all(\"dev2\")\n",
    "res"
   ]
  },
  {
   "cell_type": "markdown",
   "metadata": {},
   "source": [
    "## To Do\n",
    "\n",
    "\n",
    "1. Be able to split lines - DONE\n",
    "2. Be able to edit file: add a line & update a line\n",
    "3. Ability to reset password\n",
    "4. Have a dropdown to select which file to preview\n"
   ]
  }
 ],
 "metadata": {
  "kernelspec": {
   "display_name": "Python 3",
   "language": "python",
   "name": "python3"
  },
  "language_info": {
   "codemirror_mode": {
    "name": "ipython",
    "version": 3
   },
   "file_extension": ".py",
   "mimetype": "text/x-python",
   "name": "python",
   "nbconvert_exporter": "python",
   "pygments_lexer": "ipython3",
   "version": "3.7.4"
  }
 },
 "nbformat": 4,
 "nbformat_minor": 2
}
